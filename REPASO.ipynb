{
  "nbformat": 4,
  "nbformat_minor": 0,
  "metadata": {
    "colab": {
      "name": "REPASO.ipynb",
      "provenance": [],
      "authorship_tag": "ABX9TyN0VmhPAKYFYB1B7RcJybxU",
      "include_colab_link": true
    },
    "kernelspec": {
      "name": "python3",
      "display_name": "Python 3"
    },
    "language_info": {
      "name": "python"
    }
  },
  "cells": [
    {
      "cell_type": "markdown",
      "metadata": {
        "id": "view-in-github",
        "colab_type": "text"
      },
      "source": [
        "<a href=\"https://colab.research.google.com/github/pedrolopez18/Tareas/blob/main/REPASO.ipynb\" target=\"_parent\"><img src=\"https://colab.research.google.com/assets/colab-badge.svg\" alt=\"Open In Colab\"/></a>"
      ]
    },
    {
      "cell_type": "markdown",
      "source": [
        "#***REPASO***"
      ],
      "metadata": {
        "id": "dz3wHjmJh5ic"
      }
    },
    {
      "cell_type": "markdown",
      "source": [
        "Escriba una función llamada display_message() que imprima una oración que diga a todos lo que está aprendiendo en este capítulo. Llame a la función y asegúrese de que el mensaje se muestre correctamente."
      ],
      "metadata": {
        "id": "GLdEifeDqgwV"
      }
    },
    {
      "cell_type": "markdown",
      "source": [
        "Escribe una función llamada make_shirt() que acepte un tamaño y el texto de un mensaje que debería estar impreso en la camiseta. La función debe imprimir una oración que resuma el tamaño de la camisa y el mensaje impreso en ella.\n",
        "\n",
        "Llame a la función una vez usando argumentos posicionales para hacer una camisa. Llame a la función por segunda vez usando argumentos de palabras clave."
      ],
      "metadata": {
        "id": "Ej-cJAV_wkke"
      }
    },
    {
      "cell_type": "code",
      "source": [
        "def make_shirt(tamaño,nombre_del_jugador):\n",
        "  \"\"\"funcion que debe imprimir una oración que resuma el tamaño de la camisa y el mensaje impreso en ella.\"\"\"\n",
        "  print(f\"El tamaño de la camiseta es {tamaño} y como nombre {nombre_del_jugador} \")\n"
      ],
      "metadata": {
        "id": "_6lCw_mgwjz0"
      },
      "execution_count": null,
      "outputs": []
    },
    {
      "cell_type": "code",
      "source": [
        "make_shirt(12,\"Rui\")"
      ],
      "metadata": {
        "colab": {
          "base_uri": "https://localhost:8080/"
        },
        "id": "3jRyqySOxVzb",
        "outputId": "5a779853-6e68-44b4-c232-4a50d47b35ca"
      },
      "execution_count": null,
      "outputs": [
        {
          "output_type": "stream",
          "name": "stdout",
          "text": [
            "El tamaño de la camiseta es 12 y como nombre Rui \n"
          ]
        }
      ]
    },
    {
      "cell_type": "code",
      "source": [
        "def display_message():\n",
        "  return \"Estamos aprendiendo Python - Clase 4\"\n",
        "message = display_message()\n",
        "print(message)\n"
      ],
      "metadata": {
        "colab": {
          "base_uri": "https://localhost:8080/"
        },
        "id": "SK-NsgRHsZSm",
        "outputId": "298414af-fbf8-4a09-ff68-2f5426e879ad"
      },
      "execution_count": null,
      "outputs": [
        {
          "output_type": "stream",
          "name": "stdout",
          "text": [
            "Estamos aprendiendo Python - Clase 4\n"
          ]
        }
      ]
    },
    {
      "cell_type": "code",
      "source": [
        "def display_message():\n",
        "  \"\"\"todo lo que estamos aprendiendo en este capitulo\"\"\"\n",
        "  print(\"Estamos aprendiendo las funciones de python\")"
      ],
      "metadata": {
        "id": "fmehBw-LqiFc"
      },
      "execution_count": null,
      "outputs": []
    },
    {
      "cell_type": "code",
      "source": [
        "display_message()"
      ],
      "metadata": {
        "colab": {
          "base_uri": "https://localhost:8080/"
        },
        "id": "FpilCGjjq_Zd",
        "outputId": "c5cfb8ad-7e72-4c29-fd25-ebe665fad96f"
      },
      "execution_count": null,
      "outputs": [
        {
          "output_type": "stream",
          "name": "stdout",
          "text": [
            "Estamos aprendiendo las funciones de python\n"
          ]
        }
      ]
    },
    {
      "cell_type": "markdown",
      "source": [
        "Escriba una función llamada favorite_book() que acepte un parámetro, título. La función debe imprimir un mensaje, como Uno de mis libros favoritos es Alicia en el país de las maravillas. Llame a la función, asegurándose de incluir el título de un libro como argumento en la llamada a la función."
      ],
      "metadata": {
        "id": "DUyRunmarGlF"
      }
    },
    {
      "cell_type": "code",
      "source": [
        "def favorite_book(nombre_del_libro):\n",
        "  \"\"\"Este codigo imprime tus libros favoritos\"\"\"\n",
        "  print(f\"Uno de mis libros favoritos es {nombre_del_libro}\")"
      ],
      "metadata": {
        "id": "bno0T4mfrEN9"
      },
      "execution_count": null,
      "outputs": []
    },
    {
      "cell_type": "code",
      "source": [
        "favorite_book(\"Tuto\")"
      ],
      "metadata": {
        "colab": {
          "base_uri": "https://localhost:8080/"
        },
        "id": "JJe5SaM-ryxl",
        "outputId": "59e2605b-b087-4aa0-923f-fd56acba6f22"
      },
      "execution_count": null,
      "outputs": [
        {
          "output_type": "stream",
          "name": "stdout",
          "text": [
            "Uno de mis libros favoritos es Tuto\n"
          ]
        }
      ]
    },
    {
      "cell_type": "code",
      "source": [
        "fa"
      ],
      "metadata": {
        "colab": {
          "base_uri": "https://localhost:8080/"
        },
        "id": "PToqsmj-h9QR",
        "outputId": "8d7b450e-ecb8-4e20-9255-28bd8e78a238"
      },
      "execution_count": null,
      "outputs": [
        {
          "output_type": "stream",
          "name": "stdout",
          "text": [
            "1\n",
            "3\n",
            "5\n",
            "7\n",
            "9\n"
          ]
        }
      ]
    },
    {
      "cell_type": "code",
      "source": [
        "while True:\n",
        "  city= input(\"Ingrese una ciudad\")\n",
        "  if city== \"salir\":\n",
        "    break\n",
        "  else:\n",
        "    print(\"\")"
      ],
      "metadata": {
        "colab": {
          "base_uri": "https://localhost:8080/",
          "height": 130
        },
        "id": "de9zKgkMfyGM",
        "outputId": "242b742e-0088-415f-928a-6d07ce3e9740"
      },
      "execution_count": null,
      "outputs": [
        {
          "output_type": "error",
          "ename": "SyntaxError",
          "evalue": "ignored",
          "traceback": [
            "\u001b[0;36m  File \u001b[0;32m\"<ipython-input-14-7abc45470d9b>\"\u001b[0;36m, line \u001b[0;32m1\u001b[0m\n\u001b[0;31m    while True:\u001b[0m\n\u001b[0m               ^\u001b[0m\n\u001b[0;31mSyntaxError\u001b[0m\u001b[0;31m:\u001b[0m unexpected EOF while parsing\n"
          ]
        }
      ]
    },
    {
      "cell_type": "code",
      "source": [
        "for n in range(10):\n",
        "  print(n)"
      ],
      "metadata": {
        "colab": {
          "base_uri": "https://localhost:8080/"
        },
        "id": "FlCDGtnKe0_K",
        "outputId": "866413ff-5178-4faa-fe08-9b996c154abd"
      },
      "execution_count": null,
      "outputs": [
        {
          "output_type": "stream",
          "name": "stdout",
          "text": [
            "0\n",
            "1\n",
            "2\n",
            "3\n",
            "4\n",
            "5\n",
            "6\n",
            "7\n",
            "8\n",
            "9\n"
          ]
        }
      ]
    },
    {
      "cell_type": "code",
      "source": [
        "n=0\n",
        "for n in range(10):\n",
        "  print(n)\n",
        "  if n==5:\n",
        "    continue\n",
        "  print(n)\n"
      ],
      "metadata": {
        "colab": {
          "base_uri": "https://localhost:8080/"
        },
        "id": "LAVi7jsuexlq",
        "outputId": "67231d01-1b0e-4e34-ee10-834d9d7cd19b"
      },
      "execution_count": null,
      "outputs": [
        {
          "output_type": "stream",
          "name": "stdout",
          "text": [
            "0\n",
            "0\n",
            "1\n",
            "1\n",
            "2\n",
            "2\n",
            "3\n",
            "3\n",
            "4\n",
            "4\n",
            "5\n",
            "6\n",
            "6\n",
            "7\n",
            "7\n",
            "8\n",
            "8\n",
            "9\n",
            "9\n"
          ]
        }
      ]
    },
    {
      "cell_type": "code",
      "source": [
        "for n in range(0,10,2):\n",
        "  print (n)"
      ],
      "metadata": {
        "colab": {
          "base_uri": "https://localhost:8080/"
        },
        "id": "yjNBfl1Ved8N",
        "outputId": "62118be6-0f06-46db-a551-8dc50c7efe3c"
      },
      "execution_count": null,
      "outputs": [
        {
          "output_type": "stream",
          "name": "stdout",
          "text": [
            "0\n",
            "2\n",
            "4\n",
            "6\n",
            "8\n"
          ]
        }
      ]
    },
    {
      "cell_type": "code",
      "source": [
        "for n in range(0,10):\n",
        "  print (n)"
      ],
      "metadata": {
        "id": "I0BWyoFcrCkL",
        "colab": {
          "base_uri": "https://localhost:8080/"
        },
        "outputId": "a45e089a-3536-4d63-de30-ed264a7cc35e"
      },
      "execution_count": null,
      "outputs": [
        {
          "output_type": "stream",
          "name": "stdout",
          "text": [
            "0\n",
            "1\n",
            "2\n",
            "3\n",
            "4\n",
            "5\n",
            "6\n",
            "7\n",
            "8\n",
            "9\n"
          ]
        }
      ]
    },
    {
      "cell_type": "code",
      "source": [
        "###Ejercicio_1\n",
        "\n",
        "alien_color= [\"verde\",\"amarillo\",\"rojo\"]\n",
        "\n",
        "if \"verde\" in alien_color:\n",
        "    print(\"Usted acaba de ganar 5 puntos\")\n",
        "else:\n",
        "    print(\"Usted no ha ganado 5 puntos\")\n"
      ],
      "metadata": {
        "colab": {
          "base_uri": "https://localhost:8080/"
        },
        "id": "JtlJ2RgPATIJ",
        "outputId": "8f26c011-9d05-4dd6-cd0e-d7455f3ac1b9"
      },
      "execution_count": null,
      "outputs": [
        {
          "output_type": "stream",
          "name": "stdout",
          "text": [
            "Usted acaba de ganar 5 puntos\n"
          ]
        }
      ]
    },
    {
      "cell_type": "code",
      "source": [
        "num1 = float(input('Ingrese el primer número: '))\n",
        "num2 = float(input('Ingrese el segundo número: '))\n",
        "\n",
        "if num1 > num2:\n",
        "  print('num1 es mayor')\n",
        "elif num1==num2:\n",
        "  print(\"num1 es igual a num2\")\n",
        "else:\n",
        "  print('num2 es mayor')"
      ],
      "metadata": {
        "colab": {
          "base_uri": "https://localhost:8080/"
        },
        "id": "q-dq8AOw_9CI",
        "outputId": "5411af96-bfda-497c-f513-aa446d62e646"
      },
      "execution_count": null,
      "outputs": [
        {
          "output_type": "stream",
          "name": "stdout",
          "text": [
            "Ingrese el primer número: 3\n",
            "Ingrese el segundo número: 4\n",
            "num2 es mayor\n"
          ]
        }
      ]
    },
    {
      "cell_type": "code",
      "source": [
        "requested_topping = [\"mushrooms\", \"extra cheese\"]\n",
        "\n",
        "if \"mushrooms\" in requested_topping:\n",
        "  print(\"Adding mushrooms\")\n",
        "if \"extra cheese\" in requested_topping:\n",
        "  print(\"Adding cheese\")\n",
        "if \"pepperoni\" in requested_topping:\n",
        "  print(\"Adding pepperoni\")\n",
        "\n",
        "print(\"\\n\\tFinished making your pizza\")"
      ],
      "metadata": {
        "colab": {
          "base_uri": "https://localhost:8080/"
        },
        "id": "gcbtUvpv9Q_8",
        "outputId": "d301c67f-411c-4a38-cdd5-02cf1429520b"
      },
      "execution_count": null,
      "outputs": [
        {
          "output_type": "stream",
          "name": "stdout",
          "text": [
            "Adding mushrooms\n",
            "Adding cheese\n",
            "\n",
            "\tFinished making your pizza\n"
          ]
        }
      ]
    },
    {
      "cell_type": "code",
      "source": [
        "requested_toppings = ['mushrooms', 'extra cheese']\n",
        "\n",
        "if 'mushrooms' in requested_toppings:\n",
        "  print(\"Adding mushrooms.\")\n",
        "if 'pepperoni' in requested_toppings:\n",
        "  print(\"Adding pepperoni.\")\n",
        "if 'extra cheese' in requested_toppings:\n",
        "  print(\"Adding extra cheese.\")\n",
        "\n",
        "print(\"\\nFinished making your pizza!\")"
      ],
      "metadata": {
        "id": "-T29P49S8BcT"
      },
      "execution_count": null,
      "outputs": []
    },
    {
      "cell_type": "code",
      "source": [
        "age = int(input(\"Ingrese su edad: \"))\n",
        "\n",
        "if age < 4:\n",
        "  price = 0\n",
        "elif age < 18:\n",
        "  price = 25\n",
        "else:\n",
        "  price = 40\n",
        "\n",
        "print(f\"El objeto que vas a comprar tiene un costo de admision igual a ${price}.\")\n"
      ],
      "metadata": {
        "colab": {
          "base_uri": "https://localhost:8080/"
        },
        "id": "Jp4_xKbO2zrK",
        "outputId": "5b897ccc-f94c-4466-9ce7-0f53054bb5bd"
      },
      "execution_count": null,
      "outputs": [
        {
          "output_type": "stream",
          "name": "stdout",
          "text": [
            "Ingrese su edad: 5\n",
            "El objeto que vas a comprar tiene un costo de admision igual a $25.\n"
          ]
        }
      ]
    },
    {
      "cell_type": "code",
      "source": [
        "age = int(input(\"Ingrese su edad: \"))\n",
        "\n",
        "if age < 4:\n",
        "  print(\"Your admission cost is $0.\")\n",
        "elif age < 18:\n",
        "  print(\"Your admission cost is $25.\")\n",
        "else:\n",
        "  print(\"Your admission cost is $40.\")"
      ],
      "metadata": {
        "colab": {
          "base_uri": "https://localhost:8080/"
        },
        "id": "ju1trhtTwhxi",
        "outputId": "c2a71bb6-4674-4d5d-fc59-f58965a0f47c"
      },
      "execution_count": null,
      "outputs": [
        {
          "output_type": "stream",
          "name": "stdout",
          "text": [
            "Ingrese su edad: 3\n",
            "Your admission cost is $0.\n"
          ]
        }
      ]
    },
    {
      "cell_type": "code",
      "source": [
        "age =int(input(\"Ingrese su edad: \"))\n",
        "if age >= 18:\n",
        "  print(\"Ya tienes edad suficiente para votar!\")\n",
        "else:\n",
        "  print(\"Lo sentimos, eres muy joven para votar!\")\n"
      ],
      "metadata": {
        "colab": {
          "base_uri": "https://localhost:8080/"
        },
        "id": "euYygLhKzz_J",
        "outputId": "a105d1de-ba8d-4f6e-e0d7-9613dac4d8d1"
      },
      "execution_count": null,
      "outputs": [
        {
          "output_type": "stream",
          "name": "stdout",
          "text": [
            "Ingrese su edad: 18\n",
            "Ya tienes edad suficiente para votar!\n"
          ]
        }
      ]
    },
    {
      "cell_type": "code",
      "source": [
        "age = 19\n",
        "if age >= 18:\n",
        "  print(\"Ya tienes edad suficiente para votar!\")\n",
        "  print(\"Todavía no te has registrado?\")\n",
        "else:\n",
        "  print(\"Lo sentimos, eres muy joven para votar!\")\n",
        "  print(\"Por favor registrate cuando cumplas 18!\")"
      ],
      "metadata": {
        "id": "IAq9oQwnzurZ"
      },
      "execution_count": null,
      "outputs": []
    },
    {
      "cell_type": "code",
      "source": [
        "banned_users= [\"andrew\",\"carolina\",\"david\"]\n",
        "user= str(input(\"Ingrese su nombre: \"))\n",
        "\n",
        "if user.lower() not in banned_users:\n",
        "  print(f\"{user.title()}, usted no se encuentra baneado.\")\n",
        "else:\n",
        "  print(f\"{user.title()}, usted se encuentra en la lista de baneados.\")"
      ],
      "metadata": {
        "colab": {
          "base_uri": "https://localhost:8080/"
        },
        "id": "6Qhf4EESvdDX",
        "outputId": "f7fb2c43-f98c-47aa-db8b-857d96e6a8e1"
      },
      "execution_count": null,
      "outputs": [
        {
          "output_type": "stream",
          "name": "stdout",
          "text": [
            "Ingrese su nombre: andrew\n",
            "Andrew, usted se encuentra en la lista de baneados.\n"
          ]
        }
      ]
    },
    {
      "cell_type": "code",
      "source": [
        "banned_users = ['andrew', 'carolina', 'david']\n",
        "user = 'marie'\n",
        "\n",
        "if user not in banned_users:\n",
        "  print(f\"{user.title()}, no se encuentra en la lista de no deseados.\")"
      ],
      "metadata": {
        "id": "6PeXeGACvTDn"
      },
      "execution_count": null,
      "outputs": []
    },
    {
      "cell_type": "code",
      "source": [
        "lenguages = ['R','Python','C']\n",
        "if \"R\" in lenguages:\n",
        "  print(\"GOU\")\n",
        "else:\n",
        "  print(\"Ga\")\n",
        "\n",
        "number =[1, 2, 3]\n",
        "2 in number\n"
      ],
      "metadata": {
        "colab": {
          "base_uri": "https://localhost:8080/"
        },
        "id": "7Z6m4ML3tzS_",
        "outputId": "89f6af71-5449-40f1-a777-da5c203799f5"
      },
      "execution_count": null,
      "outputs": [
        {
          "output_type": "stream",
          "name": "stdout",
          "text": [
            "GOU\n"
          ]
        },
        {
          "output_type": "execute_result",
          "data": {
            "text/plain": [
              "True"
            ]
          },
          "metadata": {},
          "execution_count": 27
        }
      ]
    },
    {
      "cell_type": "code",
      "source": [
        "lenguages = ['R', 'Python', 'C']\n",
        "print(lenguages)\n",
        "print(lenguages[2])"
      ],
      "metadata": {
        "colab": {
          "base_uri": "https://localhost:8080/"
        },
        "id": "rot7hQFatB-G",
        "outputId": "2482afe1-a8c6-4450-b52b-8e27f32025c4"
      },
      "execution_count": null,
      "outputs": [
        {
          "output_type": "stream",
          "name": "stdout",
          "text": [
            "['R', 'Python', 'C']\n",
            "C\n"
          ]
        }
      ]
    },
    {
      "cell_type": "code",
      "source": [
        "age_0 = 22\n",
        "age_1 = 18\n",
        "(age_0 >= 21) or (age_1 >= 21)"
      ],
      "metadata": {
        "colab": {
          "base_uri": "https://localhost:8080/"
        },
        "id": "8IlHaCxUsBfu",
        "outputId": "dacbe877-1294-41e0-d963-2d5e849b273e"
      },
      "execution_count": null,
      "outputs": [
        {
          "output_type": "execute_result",
          "data": {
            "text/plain": [
              "True"
            ]
          },
          "metadata": {},
          "execution_count": 17
        }
      ]
    },
    {
      "cell_type": "code",
      "source": [
        "age_0 = 12\n",
        "age_1 = 11\n",
        "\n",
        "(age_0 > 10) & (age_1 >8)"
      ],
      "metadata": {
        "colab": {
          "base_uri": "https://localhost:8080/"
        },
        "id": "h0XtI7gprq3_",
        "outputId": "0ca59e7e-fdf4-49c0-eede-ae1018c63cff"
      },
      "execution_count": null,
      "outputs": [
        {
          "output_type": "execute_result",
          "data": {
            "text/plain": [
              "True"
            ]
          },
          "metadata": {},
          "execution_count": 18
        }
      ]
    },
    {
      "cell_type": "code",
      "source": [
        "car= \"bmw\"\n",
        "\n",
        "print(car.upper())"
      ],
      "metadata": {
        "colab": {
          "base_uri": "https://localhost:8080/"
        },
        "id": "_OX_HWbIkcoH",
        "outputId": "c6af1bdd-3c58-44b0-dfb0-f211cc171933"
      },
      "execution_count": null,
      "outputs": [
        {
          "output_type": "stream",
          "name": "stdout",
          "text": [
            "BMW\n"
          ]
        }
      ]
    },
    {
      "cell_type": "code",
      "source": [
        "cars = ['audi', 'bmw', 'subaru', 'toyota']\n",
        "\n",
        "for car in cars:\n",
        "  if car == 'bmw':\n",
        "    print(car.upper())\n",
        "  else:\n",
        "    print(car.title())"
      ],
      "metadata": {
        "colab": {
          "base_uri": "https://localhost:8080/"
        },
        "id": "d6dPaBxajjI0",
        "outputId": "24f128af-83a6-4e0b-a245-facb7dd58000"
      },
      "execution_count": null,
      "outputs": [
        {
          "output_type": "stream",
          "name": "stdout",
          "text": [
            "Audi\n",
            "BMW\n",
            "Subaru\n",
            "Toyota\n"
          ]
        }
      ]
    },
    {
      "cell_type": "code",
      "source": [
        "66*6\n"
      ],
      "metadata": {
        "colab": {
          "base_uri": "https://localhost:8080/"
        },
        "id": "rbSzPYy3f38V",
        "outputId": "04629818-9eb2-4a56-9b02-d69ebcae5eba"
      },
      "execution_count": null,
      "outputs": [
        {
          "output_type": "execute_result",
          "data": {
            "text/plain": [
              "396"
            ]
          },
          "metadata": {},
          "execution_count": 6
        }
      ]
    },
    {
      "cell_type": "code",
      "source": [
        "first_name= str(input(\"Ingrese su nombre: \"))\n",
        "last_name= str(input(\"Ingrese su apellido: \"))\n",
        "age= int(input(\"Ingrese su edad: \"))\n",
        "print(f\"\\tBienvenido(a) {first_name.title()} {last_name.title()}\")\n",
        "\n",
        "if age>10:\n",
        "  print(\"Usted es menor de edad\")\n",
        "else:\n",
        "  print(\"Usted es mayor de edad\")\n",
        "\n",
        "\n"
      ],
      "metadata": {
        "id": "xhjpmIxyfgHc"
      },
      "execution_count": null,
      "outputs": []
    },
    {
      "cell_type": "code",
      "execution_count": null,
      "metadata": {
        "colab": {
          "base_uri": "https://localhost:8080/"
        },
        "id": "ATbt6K8TczrB",
        "outputId": "6c51c519-e515-41b2-ca15-7a42f92ef508"
      },
      "outputs": [
        {
          "output_type": "stream",
          "name": "stdout",
          "text": [
            "Ingrese un número: 5\n",
            "Ingrese un número: 3\n",
            "Se obtiene como numero 5 y 10\n"
          ]
        }
      ],
      "source": [
        "m=int(input(\"Ingrese un número: \"))\n",
        "n=int(input(\"Ingrese un número: \"))\n",
        "if n>5:\n",
        "  n=n+1\n",
        "else:\n",
        "  n=n+2\n",
        "m=2*m\n",
        "print(f\"Se obtiene como numero {n} y {m}\")"
      ]
    },
    {
      "cell_type": "code",
      "source": [
        "while True:\n",
        "    pizza = input(\"Ingrese los ingredientes a usar: \")\n",
        "    if pizza == \"salir\":\n",
        "        print(\"Esos son todos los ingredientes que se va usar\")\n",
        "        break\n",
        "    print(f\" Agrege {pizza} como ingrediente\")\n",
        "\n",
        "\n"
      ],
      "metadata": {
        "colab": {
          "base_uri": "https://localhost:8080/",
          "height": 536
        },
        "id": "FNvErzkTyqyK",
        "outputId": "944c7c85-4e05-408a-d1b5-3f86d279653f"
      },
      "execution_count": null,
      "outputs": [
        {
          "output_type": "error",
          "ename": "KeyboardInterrupt",
          "evalue": "ignored",
          "traceback": [
            "\u001b[0;31m---------------------------------------------------------------------------\u001b[0m",
            "\u001b[0;31mKeyboardInterrupt\u001b[0m                         Traceback (most recent call last)",
            "\u001b[0;32m/usr/local/lib/python3.7/dist-packages/ipykernel/kernelbase.py\u001b[0m in \u001b[0;36m_input_request\u001b[0;34m(self, prompt, ident, parent, password)\u001b[0m\n\u001b[1;32m    728\u001b[0m             \u001b[0;32mtry\u001b[0m\u001b[0;34m:\u001b[0m\u001b[0;34m\u001b[0m\u001b[0;34m\u001b[0m\u001b[0m\n\u001b[0;32m--> 729\u001b[0;31m                 \u001b[0mident\u001b[0m\u001b[0;34m,\u001b[0m \u001b[0mreply\u001b[0m \u001b[0;34m=\u001b[0m \u001b[0mself\u001b[0m\u001b[0;34m.\u001b[0m\u001b[0msession\u001b[0m\u001b[0;34m.\u001b[0m\u001b[0mrecv\u001b[0m\u001b[0;34m(\u001b[0m\u001b[0mself\u001b[0m\u001b[0;34m.\u001b[0m\u001b[0mstdin_socket\u001b[0m\u001b[0;34m,\u001b[0m \u001b[0;36m0\u001b[0m\u001b[0;34m)\u001b[0m\u001b[0;34m\u001b[0m\u001b[0;34m\u001b[0m\u001b[0m\n\u001b[0m\u001b[1;32m    730\u001b[0m             \u001b[0;32mexcept\u001b[0m \u001b[0mException\u001b[0m\u001b[0;34m:\u001b[0m\u001b[0;34m\u001b[0m\u001b[0;34m\u001b[0m\u001b[0m\n",
            "\u001b[0;32m/usr/local/lib/python3.7/dist-packages/jupyter_client/session.py\u001b[0m in \u001b[0;36mrecv\u001b[0;34m(self, socket, mode, content, copy)\u001b[0m\n\u001b[1;32m    802\u001b[0m         \u001b[0;32mtry\u001b[0m\u001b[0;34m:\u001b[0m\u001b[0;34m\u001b[0m\u001b[0;34m\u001b[0m\u001b[0m\n\u001b[0;32m--> 803\u001b[0;31m             \u001b[0mmsg_list\u001b[0m \u001b[0;34m=\u001b[0m \u001b[0msocket\u001b[0m\u001b[0;34m.\u001b[0m\u001b[0mrecv_multipart\u001b[0m\u001b[0;34m(\u001b[0m\u001b[0mmode\u001b[0m\u001b[0;34m,\u001b[0m \u001b[0mcopy\u001b[0m\u001b[0;34m=\u001b[0m\u001b[0mcopy\u001b[0m\u001b[0;34m)\u001b[0m\u001b[0;34m\u001b[0m\u001b[0;34m\u001b[0m\u001b[0m\n\u001b[0m\u001b[1;32m    804\u001b[0m         \u001b[0;32mexcept\u001b[0m \u001b[0mzmq\u001b[0m\u001b[0;34m.\u001b[0m\u001b[0mZMQError\u001b[0m \u001b[0;32mas\u001b[0m \u001b[0me\u001b[0m\u001b[0;34m:\u001b[0m\u001b[0;34m\u001b[0m\u001b[0;34m\u001b[0m\u001b[0m\n",
            "\u001b[0;32m/usr/local/lib/python3.7/dist-packages/zmq/sugar/socket.py\u001b[0m in \u001b[0;36mrecv_multipart\u001b[0;34m(self, flags, copy, track)\u001b[0m\n\u001b[1;32m    726\u001b[0m         \"\"\"\n\u001b[0;32m--> 727\u001b[0;31m         \u001b[0mparts\u001b[0m \u001b[0;34m=\u001b[0m \u001b[0;34m[\u001b[0m\u001b[0mself\u001b[0m\u001b[0;34m.\u001b[0m\u001b[0mrecv\u001b[0m\u001b[0;34m(\u001b[0m\u001b[0mflags\u001b[0m\u001b[0;34m,\u001b[0m \u001b[0mcopy\u001b[0m\u001b[0;34m=\u001b[0m\u001b[0mcopy\u001b[0m\u001b[0;34m,\u001b[0m \u001b[0mtrack\u001b[0m\u001b[0;34m=\u001b[0m\u001b[0mtrack\u001b[0m\u001b[0;34m)\u001b[0m\u001b[0;34m]\u001b[0m\u001b[0;34m\u001b[0m\u001b[0;34m\u001b[0m\u001b[0m\n\u001b[0m\u001b[1;32m    728\u001b[0m         \u001b[0;31m# have first part already, only loop while more to receive\u001b[0m\u001b[0;34m\u001b[0m\u001b[0;34m\u001b[0m\u001b[0;34m\u001b[0m\u001b[0m\n",
            "\u001b[0;32mzmq/backend/cython/socket.pyx\u001b[0m in \u001b[0;36mzmq.backend.cython.socket.Socket.recv\u001b[0;34m()\u001b[0m\n",
            "\u001b[0;32mzmq/backend/cython/socket.pyx\u001b[0m in \u001b[0;36mzmq.backend.cython.socket.Socket.recv\u001b[0;34m()\u001b[0m\n",
            "\u001b[0;32mzmq/backend/cython/socket.pyx\u001b[0m in \u001b[0;36mzmq.backend.cython.socket._recv_copy\u001b[0;34m()\u001b[0m\n",
            "\u001b[0;32m/usr/local/lib/python3.7/dist-packages/zmq/backend/cython/checkrc.pxd\u001b[0m in \u001b[0;36mzmq.backend.cython.checkrc._check_rc\u001b[0;34m()\u001b[0m\n",
            "\u001b[0;31mKeyboardInterrupt\u001b[0m: ",
            "\nDuring handling of the above exception, another exception occurred:\n",
            "\u001b[0;31mKeyboardInterrupt\u001b[0m                         Traceback (most recent call last)",
            "\u001b[0;32m<ipython-input-6-926e3b5de6f3>\u001b[0m in \u001b[0;36m<module>\u001b[0;34m()\u001b[0m\n\u001b[1;32m      1\u001b[0m \u001b[0;32mwhile\u001b[0m \u001b[0;32mTrue\u001b[0m\u001b[0;34m:\u001b[0m\u001b[0;34m\u001b[0m\u001b[0;34m\u001b[0m\u001b[0m\n\u001b[0;32m----> 2\u001b[0;31m     \u001b[0mpizza\u001b[0m \u001b[0;34m=\u001b[0m \u001b[0minput\u001b[0m\u001b[0;34m(\u001b[0m\u001b[0;34m\"Ingrese los ingredientes a usar: \"\u001b[0m\u001b[0;34m)\u001b[0m\u001b[0;34m\u001b[0m\u001b[0;34m\u001b[0m\u001b[0m\n\u001b[0m\u001b[1;32m      3\u001b[0m     \u001b[0;32mif\u001b[0m \u001b[0mpizza\u001b[0m \u001b[0;34m==\u001b[0m \u001b[0;34m\"salir\"\u001b[0m\u001b[0;34m:\u001b[0m\u001b[0;34m\u001b[0m\u001b[0;34m\u001b[0m\u001b[0m\n\u001b[1;32m      4\u001b[0m         \u001b[0mprint\u001b[0m\u001b[0;34m(\u001b[0m\u001b[0;34m\"Esos son todos los ingredientes que se va usar\"\u001b[0m\u001b[0;34m)\u001b[0m\u001b[0;34m\u001b[0m\u001b[0;34m\u001b[0m\u001b[0m\n\u001b[1;32m      5\u001b[0m         \u001b[0;32mbreak\u001b[0m\u001b[0;34m\u001b[0m\u001b[0;34m\u001b[0m\u001b[0m\n",
            "\u001b[0;32m/usr/local/lib/python3.7/dist-packages/ipykernel/kernelbase.py\u001b[0m in \u001b[0;36mraw_input\u001b[0;34m(self, prompt)\u001b[0m\n\u001b[1;32m    702\u001b[0m             \u001b[0mself\u001b[0m\u001b[0;34m.\u001b[0m\u001b[0m_parent_ident\u001b[0m\u001b[0;34m,\u001b[0m\u001b[0;34m\u001b[0m\u001b[0;34m\u001b[0m\u001b[0m\n\u001b[1;32m    703\u001b[0m             \u001b[0mself\u001b[0m\u001b[0;34m.\u001b[0m\u001b[0m_parent_header\u001b[0m\u001b[0;34m,\u001b[0m\u001b[0;34m\u001b[0m\u001b[0;34m\u001b[0m\u001b[0m\n\u001b[0;32m--> 704\u001b[0;31m             \u001b[0mpassword\u001b[0m\u001b[0;34m=\u001b[0m\u001b[0;32mFalse\u001b[0m\u001b[0;34m,\u001b[0m\u001b[0;34m\u001b[0m\u001b[0;34m\u001b[0m\u001b[0m\n\u001b[0m\u001b[1;32m    705\u001b[0m         )\n\u001b[1;32m    706\u001b[0m \u001b[0;34m\u001b[0m\u001b[0m\n",
            "\u001b[0;32m/usr/local/lib/python3.7/dist-packages/ipykernel/kernelbase.py\u001b[0m in \u001b[0;36m_input_request\u001b[0;34m(self, prompt, ident, parent, password)\u001b[0m\n\u001b[1;32m    732\u001b[0m             \u001b[0;32mexcept\u001b[0m \u001b[0mKeyboardInterrupt\u001b[0m\u001b[0;34m:\u001b[0m\u001b[0;34m\u001b[0m\u001b[0;34m\u001b[0m\u001b[0m\n\u001b[1;32m    733\u001b[0m                 \u001b[0;31m# re-raise KeyboardInterrupt, to truncate traceback\u001b[0m\u001b[0;34m\u001b[0m\u001b[0;34m\u001b[0m\u001b[0;34m\u001b[0m\u001b[0m\n\u001b[0;32m--> 734\u001b[0;31m                 \u001b[0;32mraise\u001b[0m \u001b[0mKeyboardInterrupt\u001b[0m\u001b[0;34m\u001b[0m\u001b[0;34m\u001b[0m\u001b[0m\n\u001b[0m\u001b[1;32m    735\u001b[0m             \u001b[0;32melse\u001b[0m\u001b[0;34m:\u001b[0m\u001b[0;34m\u001b[0m\u001b[0;34m\u001b[0m\u001b[0m\n\u001b[1;32m    736\u001b[0m                 \u001b[0;32mbreak\u001b[0m\u001b[0;34m\u001b[0m\u001b[0;34m\u001b[0m\u001b[0m\n",
            "\u001b[0;31mKeyboardInterrupt\u001b[0m: "
          ]
        }
      ]
    },
    {
      "cell_type": "code",
      "source": [
        "\n",
        "while True:\n",
        "    edad=int(input(\"Ingrese su edad: \"))\n",
        "    if edad<3:\n",
        "        print(\"La entrada es gratuita\")\n",
        "    elif 3<=edad<=12:\n",
        "        print(\"La entrada cuesta S/10\")\n",
        "    else:\n",
        "        print(\"La entrada cuesta S/15\")\n",
        "    break "
      ],
      "metadata": {
        "colab": {
          "base_uri": "https://localhost:8080/"
        },
        "id": "HoFMarMX32HK",
        "outputId": "e499b2c8-e170-48f5-d45f-1641bd1ce99c"
      },
      "execution_count": null,
      "outputs": [
        {
          "output_type": "stream",
          "name": "stdout",
          "text": [
            "Ingrese su edad: 12\n",
            "La entrada cuesta S/10\n"
          ]
        }
      ]
    },
    {
      "cell_type": "code",
      "source": [
        "pizza = ['picante', 'hawaiana', 'americana']\n",
        "m=0\n",
        "for m in pizza:\n",
        "    print(f\"Me gusta la pizza {m.title()}\")\n",
        "print(\"\\nMe encanta la pizza\")\n"
      ],
      "metadata": {
        "colab": {
          "base_uri": "https://localhost:8080/"
        },
        "id": "UcVl64ue_PeC",
        "outputId": "97f02916-e653-45c8-d4fb-a0a0c6eef1a4"
      },
      "execution_count": null,
      "outputs": [
        {
          "output_type": "stream",
          "name": "stdout",
          "text": [
            "Me gusta la pizza Picante\n",
            "Me gusta la pizza Hawaiana\n",
            "Me gusta la pizza Americana\n",
            "\n",
            "Me encanta la pizza\n"
          ]
        }
      ]
    },
    {
      "cell_type": "markdown",
      "source": [
        "Piensa en al menos tres animales diferentes que tengan una característica común. Guarde los nombres de estos animales en una lista y luego use un ciclo for para imprimir el nombre de cada animal.\n",
        "\n",
        "Modifique su programa para imprimir una declaración sobre cada animal, como Un perro sería una gran mascota. Agregue una línea al final de su programa indicando lo que estos animales tienen en común. Podría escribir una oración como ¡Cualquiera de estos animales sería una gran mascota!"
      ],
      "metadata": {
        "id": "YrSHnTUgE1ph"
      }
    },
    {
      "cell_type": "code",
      "source": [
        "mascota = ['perro', 'gato', 'loro']\n",
        "m=0\n",
        "for m in mascota:\n",
        "    print(f\"Un {m} seria una gran mascota\")\n",
        "print(\"¡Cualquiera de estos animales sería una gran mascota!\")"
      ],
      "metadata": {
        "id": "J8m7rrGNE29C"
      },
      "execution_count": null,
      "outputs": []
    }
  ]
}