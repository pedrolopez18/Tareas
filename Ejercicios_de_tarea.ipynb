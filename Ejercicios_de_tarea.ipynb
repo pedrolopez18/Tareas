{
  "nbformat": 4,
  "nbformat_minor": 0,
  "metadata": {
    "colab": {
      "name": "Ejercicios_de_tarea.ipynb",
      "provenance": [],
      "authorship_tag": "ABX9TyN21z/Te3K+WIbW4whCpNJj",
      "include_colab_link": true
    },
    "kernelspec": {
      "name": "python3",
      "display_name": "Python 3"
    },
    "language_info": {
      "name": "python"
    }
  },
  "cells": [
    {
      "cell_type": "markdown",
      "metadata": {
        "id": "view-in-github",
        "colab_type": "text"
      },
      "source": [
        "<a href=\"https://colab.research.google.com/github/pedrolopez18/Tareas/blob/main/Ejercicios_de_tarea.ipynb\" target=\"_parent\"><img src=\"https://colab.research.google.com/assets/colab-badge.svg\" alt=\"Open In Colab\"/></a>"
      ]
    },
    {
      "cell_type": "markdown",
      "source": [
        "***EJERCICIOS DE TAREA***"
      ],
      "metadata": {
        "id": "nkG3jXuhsTNV"
      }
    },
    {
      "cell_type": "markdown",
      "metadata": {
        "id": "NzzH8uoCFAMM"
      },
      "source": [
        "<b> Ejercicio 1</b>\n",
        "\n",
        "Escriba un ciclo que solicite al usuario que ingrese una serie de ingredientes para la pizza hasta que ingrese un valor de 'salir'. A medida que ingresen cada ingrediente, imprima un mensaje que diga que agregará ese ingrediente a su pizza."
      ]
    },
    {
      "cell_type": "code",
      "execution_count": 3,
      "metadata": {
        "id": "8u4F5VmxpZMO",
        "colab": {
          "base_uri": "https://localhost:8080/"
        },
        "outputId": "87dc86c9-7f25-4361-8c21-7a6019e62fd6"
      },
      "outputs": [
        {
          "output_type": "stream",
          "name": "stdout",
          "text": [
            "Ingrese el ingrediente a utilizar: piña\n",
            "El ingrediente 1 es piña\n",
            "Ingrese el ingrediente a utilizar: pera\n",
            "El ingrediente 2 es pera\n",
            "Ingrese el ingrediente a utilizar: salir\n",
            "=============================\n",
            "Su receta está lista\n",
            "El total de ingredientes es 2\n"
          ]
        }
      ],
      "source": [
        "n=0\n",
        "while True:\n",
        "  Ingrediente=str(input(\"Ingrese el ingrediente a utilizar: \"))\n",
        "  if Ingrediente==\"salir\":\n",
        "    print(\"=====================================\")\n",
        "    print(\"Su receta está lista\")\n",
        "    print(f\"El total de ingredientes es {n}\")\n",
        "    break\n",
        "  else:\n",
        "    n+=1\n",
        "    print(f\"El ingrediente {n} es {Ingrediente}\")"
      ]
    },
    {
      "cell_type": "markdown",
      "source": [
        "**Ejercicio 2**\n",
        "\n",
        "Un cine cobra diferentes precios de boletos dependiendo de la edad de una persona. Si una persona es menor de 3 años, la entrada es gratuita; si son entre 3 y 12, el boleto cuesta s/. 10; y si son mayores de 12 años, el boleto cuesta s/. 15. Escriba un ciclo en el que pregunte a los usuarios su edad y luego dígales el costo de su boleto de cine."
      ],
      "metadata": {
        "id": "o-t-u7zIuypN"
      }
    },
    {
      "cell_type": "code",
      "source": [
        "while True:\n",
        "    edad=int(input(\"Ingrese su edad: \"))\n",
        "    if edad<3:\n",
        "        print(\"La entrada es gratuita\")\n",
        "    elif 3<=edad<=12:\n",
        "        print(\"La entrada cuesta S/10\")\n",
        "    else:\n",
        "        print(\"La entrada cuesta S/15\")\n",
        "    break \n"
      ],
      "metadata": {
        "colab": {
          "base_uri": "https://localhost:8080/"
        },
        "id": "aRIdGKVEu72X",
        "outputId": "46745c4e-3b84-41cd-e4bc-0ccfaddb1ee3"
      },
      "execution_count": 8,
      "outputs": [
        {
          "output_type": "stream",
          "name": "stdout",
          "text": [
            "Ingrese su edad: 12\n",
            "La entrada cuesta S/10\n"
          ]
        }
      ]
    },
    {
      "cell_type": "markdown",
      "source": [
        "***Ejercicio 3***\n",
        "\n",
        "Piensa en al menos tres tipos de tu pizza favorita. Almacene estos nombres de pizza en una lista y luego use un ciclo for para imprimir el nombre de cada pizza.\n",
        "\n",
        "Modifique su ciclo for para imprimir una oración usando el nombre de la pizza en lugar de imprimir solo el nombre de la pizza. Para cada pizza, debe tener una línea de salida que contenga una declaración simple como Me gusta la pizza de pepperoni. Agregue una línea al final de su programa, fuera del bucle for, que indique cuánto le gusta la pizza. El resultado debe constar de tres o más líneas sobre los tipos de pizza que te gustan y luego una oración adicional, como ¡Me encanta la pizza!"
      ],
      "metadata": {
        "id": "OrWXpohMv9B7"
      }
    },
    {
      "cell_type": "code",
      "source": [
        "pizza = ['picante', 'hawaiana', 'americana']\n",
        "m=0\n",
        "for m in pizza:\n",
        "  print(f\"Me gusta la pizza {m}\")\n",
        "print(\"==================================\")\n",
        "print(\"¡Me encanta la pizza!\")"
      ],
      "metadata": {
        "colab": {
          "base_uri": "https://localhost:8080/"
        },
        "id": "NyNDDmf0wAcr",
        "outputId": "f67671b2-8777-4505-be3d-7a1088e2d0a5"
      },
      "execution_count": 17,
      "outputs": [
        {
          "output_type": "stream",
          "name": "stdout",
          "text": [
            "Me gusta la pizza picante\n",
            "Me gusta la pizza hawaiana\n",
            "Me gusta la pizza americana\n",
            "==================================\n",
            "¡Me encanta la pizza!\n"
          ]
        }
      ]
    },
    {
      "cell_type": "markdown",
      "source": [
        "***Ejercicio 4***\n",
        "\n",
        "Piensa en al menos tres animales diferentes que tengan una característica común. Guarde los nombres de estos animales en una lista y luego use un ciclo for para imprimir el nombre de cada animal.\n",
        "\n",
        "Modifique su programa para imprimir una declaración sobre cada animal, como Un perro sería una gran mascota. Agregue una línea al final de su programa indicando lo que estos animales tienen en común. Podría escribir una oración como ¡Cualquiera de estos animales sería una gran mascota!"
      ],
      "metadata": {
        "id": "Y-TfBqScxXBD"
      }
    },
    {
      "cell_type": "code",
      "source": [
        "mascota = ['perro', 'gato', 'loro']\n",
        "m=0\n",
        "for m in mascota:\n",
        "    print(f\"Un {m} seria una gran mascota\")\n",
        "print(\"=======================================\")\n",
        "print(\"¡Cualquiera de estos animales sería una gran mascota!\")"
      ],
      "metadata": {
        "colab": {
          "base_uri": "https://localhost:8080/"
        },
        "id": "76Jt0XRXxgsN",
        "outputId": "b55aa956-6090-4602-dc81-bf85ef15a29e"
      },
      "execution_count": 19,
      "outputs": [
        {
          "output_type": "stream",
          "name": "stdout",
          "text": [
            "Un perro seria una gran mascota\n",
            "Un gato seria una gran mascota\n",
            "Un loro seria una gran mascota\n",
            "=======================================\n",
            "¡Cualquiera de estos animales sería una gran mascota!\n"
          ]
        }
      ]
    },
    {
      "cell_type": "markdown",
      "source": [
        "***Ejercicio 5***\n",
        "\n",
        "Escriba una función llamada display_message() que imprima una oración que diga a todos lo que está aprendiendo en este capítulo. Llame a la función y asegúrese de que el mensaje se muestre correctamente."
      ],
      "metadata": {
        "id": "50uo9weXxyMK"
      }
    },
    {
      "cell_type": "code",
      "source": [
        "def display_message():\n",
        "  \"\"\"todo lo que estamos aprendiendo en este capitulo\"\"\"\n",
        "  print(\"Estamos aprendiendo las funciones de python\")"
      ],
      "metadata": {
        "id": "mscKuSjvxx05"
      },
      "execution_count": 21,
      "outputs": []
    },
    {
      "cell_type": "code",
      "source": [
        "display_message()"
      ],
      "metadata": {
        "colab": {
          "base_uri": "https://localhost:8080/"
        },
        "id": "k4jy8jcGzF7w",
        "outputId": "20c53174-fec8-49b4-f07e-925c69c2bfb5"
      },
      "execution_count": 22,
      "outputs": [
        {
          "output_type": "stream",
          "name": "stdout",
          "text": [
            "Estamos aprendiendo las funciones de python\n"
          ]
        }
      ]
    },
    {
      "cell_type": "markdown",
      "source": [
        "***Ejercicio 6***\n",
        "\n",
        "Escriba una función llamada favorite_book() que acepte un parámetro, título. La función debe imprimir un mensaje, como Uno de mis libros favoritos es Alicia en el país de las maravillas. Llame a la función, asegurándose de incluir el título de un libro como argumento en la llamada a la función."
      ],
      "metadata": {
        "id": "tKEsityjzNxd"
      }
    },
    {
      "cell_type": "code",
      "source": [
        "def favorite_book(nombre_del_libro):\n",
        "  \"\"\"Este codigo imprime tus libros favoritos\"\"\"\n",
        "  print(f\"Uno de mis libros favoritos es {nombre_del_libro}\")"
      ],
      "metadata": {
        "id": "XJxG6kCQzQ7Z"
      },
      "execution_count": 23,
      "outputs": []
    },
    {
      "cell_type": "code",
      "source": [
        "favorite_book(\"Alicia en el pais de las maravillas\")"
      ],
      "metadata": {
        "colab": {
          "base_uri": "https://localhost:8080/"
        },
        "id": "Lj6x3dGMzULp",
        "outputId": "17bf0be3-78e2-491a-9f65-0df1a74b8920"
      },
      "execution_count": 24,
      "outputs": [
        {
          "output_type": "stream",
          "name": "stdout",
          "text": [
            "Uno de mis libros favoritos es Alicia en el pais de las maravillas\n"
          ]
        }
      ]
    },
    {
      "cell_type": "markdown",
      "source": [
        "***Ejercicio 7***\n",
        "\n",
        "Escribe una función llamada make_shirt() que acepte un tamaño y el texto de un mensaje que debería estar impreso en la camiseta. La función debe imprimir una oración que resuma el tamaño de la camisa y el mensaje impreso en ella.\n",
        "\n",
        "Llame a la función una vez usando argumentos posicionales para hacer una camisa. Llame a la función por segunda vez usando argumentos de palabras clave."
      ],
      "metadata": {
        "id": "4WnRZQyLzbyg"
      }
    },
    {
      "cell_type": "code",
      "source": [
        "def make_shirt(tamaño,texto):\n",
        "  \"\"\"Función que acepte un tamaño \n",
        "  y el texto de un mensaje que debería\n",
        "   estar impreso en la camiseta\"\"\"\n",
        "  print(f\"El tamaño de la camisa es {tamaño} y su mensaje es '{texto}'.\")"
      ],
      "metadata": {
        "id": "hJC2uTHWznhB"
      },
      "execution_count": 32,
      "outputs": []
    },
    {
      "cell_type": "code",
      "source": [
        "make_shirt(\"S\",\"Estoy aprendiendo a programar\")"
      ],
      "metadata": {
        "colab": {
          "base_uri": "https://localhost:8080/"
        },
        "id": "FLO-x8vMz0Kp",
        "outputId": "84d95950-d881-4a07-9ebc-2ea7e98e4bd4"
      },
      "execution_count": 33,
      "outputs": [
        {
          "output_type": "stream",
          "name": "stdout",
          "text": [
            "El tamaño de la camisa es S y su mensaje es 'Estoy aprendiendo a programar'.\n"
          ]
        }
      ]
    },
    {
      "cell_type": "code",
      "source": [
        "make_shirt(tamaño=\"M\",texto=\"Estoy aprendiendo a programar\")"
      ],
      "metadata": {
        "colab": {
          "base_uri": "https://localhost:8080/"
        },
        "id": "IuuwwGOR0SNT",
        "outputId": "6d85a0da-1778-4636-89d6-435ad39db742"
      },
      "execution_count": 34,
      "outputs": [
        {
          "output_type": "stream",
          "name": "stdout",
          "text": [
            "El tamaño de la camisa es M y su mensaje es 'Estoy aprendiendo a programar'.\n"
          ]
        }
      ]
    },
    {
      "cell_type": "markdown",
      "source": [
        "***Ejercicio 8***\n",
        "\n",
        "Modifique la función make_shirt() para que las camisetas sean grandes por defecto con un mensaje que diga Me encanta Python. Haz una camiseta grande y una camiseta mediana con el mensaje predeterminado y una camiseta de cualquier tamaño con un mensaje diferente."
      ],
      "metadata": {
        "id": "If_gPPlp0hih"
      }
    },
    {
      "cell_type": "code",
      "source": [
        "def make_shirt(tamaño=\"XL\",mensaje='Me encanta Python'):\n",
        "  \"\"\"Funcion que imprima las camisetas sean grandes por\n",
        "     defecto con un mensaje que diga \n",
        "     Me encanta Python\"\"\"\n",
        "  print(f\"La camiseta es tamaño {tamaño} y el mensaje es '{mensaje}'.\")"
      ],
      "metadata": {
        "id": "ee-tK8yb0ksh"
      },
      "execution_count": 46,
      "outputs": []
    },
    {
      "cell_type": "code",
      "source": [
        "make_shirt()"
      ],
      "metadata": {
        "colab": {
          "base_uri": "https://localhost:8080/"
        },
        "id": "PjQUV8h60rxZ",
        "outputId": "01b84d10-d34e-46e7-9b62-afe012bd40e4"
      },
      "execution_count": 47,
      "outputs": [
        {
          "output_type": "stream",
          "name": "stdout",
          "text": [
            "La camiseta es tamaño XL y el mensaje es 'Me encanta Python'.\n"
          ]
        }
      ]
    },
    {
      "cell_type": "code",
      "source": [
        "make_shirt(tamaño=\"M\")"
      ],
      "metadata": {
        "colab": {
          "base_uri": "https://localhost:8080/"
        },
        "id": "Pkh272WH0xXJ",
        "outputId": "baa301c7-7ae3-46c6-e4f3-5e3b683ac5c8"
      },
      "execution_count": 48,
      "outputs": [
        {
          "output_type": "stream",
          "name": "stdout",
          "text": [
            "La camiseta es tamaño M y el mensaje es 'Me encanta Python'.\n"
          ]
        }
      ]
    },
    {
      "cell_type": "code",
      "source": [
        "make_shirt(tamaño=\"S\",mensaje=\"Amo programar\")"
      ],
      "metadata": {
        "colab": {
          "base_uri": "https://localhost:8080/"
        },
        "id": "IkjqXWlU00Sw",
        "outputId": "920b4ec1-5db4-4a76-8a32-d44898c93a01"
      },
      "execution_count": 49,
      "outputs": [
        {
          "output_type": "stream",
          "name": "stdout",
          "text": [
            "La camiseta es tamaño S y el mensaje es 'Amo programar'.\n"
          ]
        }
      ]
    },
    {
      "cell_type": "markdown",
      "source": [
        "***Ejercicio 9***\n",
        "\n",
        "Escribe una función llamada describe_city() que acepte el nombre de una ciudad y su país. La función debe imprimir una oración simple, como Reykjavik está en Islandia. Asigne al parámetro para el país un valor predeterminado. Llame a su función para tres ciudades diferentes, al menos una de las cuales no se encuentra en el país predeterminado."
      ],
      "metadata": {
        "id": "ZR4X8Ddm1J0o"
      }
    },
    {
      "cell_type": "code",
      "source": [
        "def describe_city(ciudad,pais=\"Perú\"):\n",
        "  \"\"\"Funcion que imprime el pais junto a una ciudad\"\"\"\n",
        "  print(f\"{ciudad.title()} está en {pais}\")"
      ],
      "metadata": {
        "id": "I72_A_2I1OaI"
      },
      "execution_count": 50,
      "outputs": []
    },
    {
      "cell_type": "code",
      "source": [
        "describe_city(\"lima\")"
      ],
      "metadata": {
        "colab": {
          "base_uri": "https://localhost:8080/"
        },
        "id": "1SJHoUqZ1SoZ",
        "outputId": "4da57b97-dbd5-4267-c2d1-29be8e5ef14c"
      },
      "execution_count": 51,
      "outputs": [
        {
          "output_type": "stream",
          "name": "stdout",
          "text": [
            "Lima está en Perú\n"
          ]
        }
      ]
    },
    {
      "cell_type": "code",
      "source": [
        "describe_city(ciudad=\"arequipa\")"
      ],
      "metadata": {
        "colab": {
          "base_uri": "https://localhost:8080/"
        },
        "id": "x_sxmOOi1UiB",
        "outputId": "9e550367-c1fb-48a1-b9ff-14b25bcac657"
      },
      "execution_count": 52,
      "outputs": [
        {
          "output_type": "stream",
          "name": "stdout",
          "text": [
            "Arequipa está en Perú\n"
          ]
        }
      ]
    },
    {
      "cell_type": "code",
      "source": [
        "describe_city(pais=\"Argentina\",ciudad=\"Buenos Aires\")"
      ],
      "metadata": {
        "colab": {
          "base_uri": "https://localhost:8080/"
        },
        "id": "z4AjUj7k1WBI",
        "outputId": "a49f0b27-eda7-43f9-d9b1-54437b17df2d"
      },
      "execution_count": 53,
      "outputs": [
        {
          "output_type": "stream",
          "name": "stdout",
          "text": [
            "Buenos Aires está en Argentina\n"
          ]
        }
      ]
    }
  ]
}